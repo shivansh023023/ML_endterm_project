{
 "cells": [
  {
   "cell_type": "code",
   "execution_count": null,
   "id": "b0853316",
   "metadata": {},
   "outputs": [],
   "source": [
    "import pandas as pd\n",
    "import numpy as np\n",
    "from scapy.all import rdpcap, TCP, IP\n",
    "from collections import defaultdict\n",
    "from tqdm.notebook import tqdm \n",
    "import warnings\n",
    "\n",
    "warnings.filterwarnings(\"ignore\", category=RuntimeWarning)\n",
    "\n",
    "PCAP_FILE = \"c:\\\\Users\\\\Shivansh\\\\Desktop\\\\ml_endterm_project\\\\202504021400.pcap\"\n",
    "OUTPUT_CSV = \"c:\\\\Users\\\\Shivansh\\\\Desktop\\\\ml_endterm_project\\\\flows.csv\""
   ]
  },
  {
   "cell_type": "code",
   "execution_count": null,
   "id": "b9e6a5dc",
   "metadata": {},
   "outputs": [
    {
     "name": "stdout",
     "output_type": "stream",
     "text": [
      "Reading a subset of 2 million packets and grouping them into flows...\n"
     ]
    },
    {
     "name": "stderr",
     "output_type": "stream",
     "text": [
      "Processing packets: 100%|██████████| 2000000/2000000 [08:11<00:00, 4070.41it/s]\n"
     ]
    },
    {
     "name": "stdout",
     "output_type": "stream",
     "text": [
      "\n",
      "Successfully processed 2000000 packets and identified 131476 unique flows.\n"
     ]
    }
   ],
   "source": [
    "from scapy.all import PcapReader\n",
    "from tqdm import tqdm\n",
    "\n",
    "flows = defaultdict(list)\n",
    "print(\"Reading a subset of 2 million packets and grouping them into flows...\")\n",
    "\n",
    "# Define a limit\n",
    "packet_limit = 2000000 \n",
    "count = 0\n",
    "\n",
    "try:\n",
    "    with PcapReader(PCAP_FILE) as pcap_reader:\n",
    "        # progress bar\n",
    "        for pkt in tqdm(pcap_reader, total=packet_limit, desc=\"Processing packets\"):\n",
    "            if count >= packet_limit:\n",
    "                break # limit reached\n",
    "\n",
    "            if IP in pkt and TCP in pkt:\n",
    "                ip_layer = pkt[IP]\n",
    "                tcp_layer = pkt[TCP]\n",
    "                \n",
    "                if ip_layer.src < ip_layer.dst:\n",
    "                    flow_tuple = (ip_layer.src, tcp_layer.sport, ip_layer.dst, tcp_layer.dport)\n",
    "                else:\n",
    "                    flow_tuple = (ip_layer.dst, tcp_layer.dport, ip_layer.src, tcp_layer.sport)\n",
    "                \n",
    "                direction = 1 if flow_tuple[0] == ip_layer.src else -1\n",
    "                \n",
    "                flows[flow_tuple].append({\n",
    "                    'time': float(pkt.time),\n",
    "                    'size': len(pkt),\n",
    "                    'dir': direction,\n",
    "                    'seq': tcp_layer.seq,\n",
    "                    'ack': tcp_layer.ack,\n",
    "                    'payload_len': len(tcp_layer.payload)\n",
    "                })\n",
    "            count += 1\n",
    "\n",
    "    print(f\"\\nSuccessfully processed {count} packets and identified {len(flows)} unique flows.\")\n",
    "\n",
    "except FileNotFoundError:\n",
    "    print(f\"ERROR: The file was not found at '{PCAP_FILE}'.\")\n",
    "except Exception as e:\n",
    "    print(f\"An error occurred: {e}\")"
   ]
  },
  {
   "cell_type": "code",
   "execution_count": null,
   "id": "81ea6ed8",
   "metadata": {},
   "outputs": [
    {
     "name": "stdout",
     "output_type": "stream",
     "text": [
      "Calculating features for each flow...\n"
     ]
    },
    {
     "name": "stderr",
     "output_type": "stream",
     "text": [
      "Analyzing flows: 100%|██████████| 131476/131476 [00:01<00:00, 113935.52it/s]\n"
     ]
    },
    {
     "name": "stdout",
     "output_type": "stream",
     "text": [
      "\n",
      "Successfully created a dataset with 6707 flows.\n"
     ]
    }
   ],
   "source": [
    "#  MODIFIED APPROACH: Predict Packet Count-\n",
    "\n",
    "processed_flows = []\n",
    "print(\"Calculating features for each flow...\")\n",
    "\n",
    "for flow_tuple, flow_packets in tqdm(flows.items(), desc=\"Analyzing flows\"):\n",
    "    # We still want flows with a minimum number of packets to be meaningful\n",
    "    if len(flow_packets) < 10:\n",
    "        continue\n",
    "\n",
    "    flow_packets.sort(key=lambda p: p['time'])\n",
    "\n",
    "    timestamps = [p['time'] for p in flow_packets]\n",
    "    flow_duration_sec = timestamps[-1] - timestamps[0]\n",
    "    \n",
    "    # Skip flows that are instantaneous\n",
    "    if flow_duration_sec == 0:\n",
    "        continue\n",
    "\n",
    "    packet_sizes = [p['size'] for p in flow_packets]\n",
    "    inter_arrival_times = np.diff(timestamps)\n",
    "\n",
    "    # Our features (X) remain the same\n",
    "    features = {\n",
    "        'flow_duration_sec': flow_duration_sec,\n",
    "        'total_bytes': sum(packet_sizes),\n",
    "        'avg_packet_size': np.mean(packet_sizes),\n",
    "        'mean_inter_arrival_ms': np.mean(inter_arrival_times) * 1000 if len(inter_arrival_times) > 0 else 0,\n",
    "        'jitter_ms': np.std(inter_arrival_times) * 1000 if len(inter_arrival_times) > 0 else 0,\n",
    "    }\n",
    "    features['bandwidth_kbps'] = (features['total_bytes'] * 8) / (features['flow_duration_sec'] * 1000)\n",
    "    \n",
    "    # Our target (y) is now the total packet count\n",
    "    features['packet_count'] = len(flow_packets)\n",
    "    \n",
    "    processed_flows.append(features)\n",
    "\n",
    "print(f\"\\nSuccessfully created a dataset with {len(processed_flows)} flows.\")"
   ]
  },
  {
   "cell_type": "code",
   "execution_count": null,
   "id": "9f2af00d",
   "metadata": {},
   "outputs": [
    {
     "name": "stdout",
     "output_type": "stream",
     "text": [
      "Successfully saved 6707 flows to 'c:\\Users\\Shivansh\\Desktop\\ml_endterm_project\\flows.csv'\n",
      "\n",
      "--- Dataset Preview ---\n"
     ]
    },
    {
     "data": {
      "application/vnd.microsoft.datawrangler.viewer.v0+json": {
       "columns": [
        {
         "name": "index",
         "rawType": "int64",
         "type": "integer"
        },
        {
         "name": "flow_duration_sec",
         "rawType": "float64",
         "type": "float"
        },
        {
         "name": "total_bytes",
         "rawType": "int64",
         "type": "integer"
        },
        {
         "name": "avg_packet_size",
         "rawType": "float64",
         "type": "float"
        },
        {
         "name": "mean_inter_arrival_ms",
         "rawType": "float64",
         "type": "float"
        },
        {
         "name": "jitter_ms",
         "rawType": "float64",
         "type": "float"
        },
        {
         "name": "bandwidth_kbps",
         "rawType": "float64",
         "type": "float"
        },
        {
         "name": "packet_count",
         "rawType": "int64",
         "type": "integer"
        }
       ],
       "ref": "2beaceb7-c3de-44b2-9b33-5ecbb07da72a",
       "rows": [
        [
         "0",
         "7.503481149673462",
         "814844",
         "67.97163830497163",
         "0.6259682280531794",
         "2.0913789483776295",
         "868.7636938067985",
         "11988"
        ],
        [
         "1",
         "4.509692907333374",
         "251912",
         "67.28418803418803",
         "1.2048337983792077",
         "11.45008953092971",
         "446.88098312034833",
         "3744"
        ],
        [
         "2",
         "5.58476996421814",
         "1026",
         "54.0",
         "310.2649980121189",
         "950.7507994662145",
         "1.4697113851759351",
         "19"
        ],
        [
         "3",
         "7.501555919647217",
         "275872",
         "55.73171717171717",
         "1.5157720589305348",
         "4.27656624262012",
         "294.20243262064355",
         "4950"
        ],
        [
         "4",
         "7.275418043136597",
         "37908",
         "54.0",
         "10.378627736286159",
         "110.6631047663577",
         "41.68337794500892",
         "702"
        ]
       ],
       "shape": {
        "columns": 7,
        "rows": 5
       }
      },
      "text/html": [
       "<div>\n",
       "<style scoped>\n",
       "    .dataframe tbody tr th:only-of-type {\n",
       "        vertical-align: middle;\n",
       "    }\n",
       "\n",
       "    .dataframe tbody tr th {\n",
       "        vertical-align: top;\n",
       "    }\n",
       "\n",
       "    .dataframe thead th {\n",
       "        text-align: right;\n",
       "    }\n",
       "</style>\n",
       "<table border=\"1\" class=\"dataframe\">\n",
       "  <thead>\n",
       "    <tr style=\"text-align: right;\">\n",
       "      <th></th>\n",
       "      <th>flow_duration_sec</th>\n",
       "      <th>total_bytes</th>\n",
       "      <th>avg_packet_size</th>\n",
       "      <th>mean_inter_arrival_ms</th>\n",
       "      <th>jitter_ms</th>\n",
       "      <th>bandwidth_kbps</th>\n",
       "      <th>packet_count</th>\n",
       "    </tr>\n",
       "  </thead>\n",
       "  <tbody>\n",
       "    <tr>\n",
       "      <th>0</th>\n",
       "      <td>7.503481</td>\n",
       "      <td>814844</td>\n",
       "      <td>67.971638</td>\n",
       "      <td>0.625968</td>\n",
       "      <td>2.091379</td>\n",
       "      <td>868.763694</td>\n",
       "      <td>11988</td>\n",
       "    </tr>\n",
       "    <tr>\n",
       "      <th>1</th>\n",
       "      <td>4.509693</td>\n",
       "      <td>251912</td>\n",
       "      <td>67.284188</td>\n",
       "      <td>1.204834</td>\n",
       "      <td>11.450090</td>\n",
       "      <td>446.880983</td>\n",
       "      <td>3744</td>\n",
       "    </tr>\n",
       "    <tr>\n",
       "      <th>2</th>\n",
       "      <td>5.584770</td>\n",
       "      <td>1026</td>\n",
       "      <td>54.000000</td>\n",
       "      <td>310.264998</td>\n",
       "      <td>950.750799</td>\n",
       "      <td>1.469711</td>\n",
       "      <td>19</td>\n",
       "    </tr>\n",
       "    <tr>\n",
       "      <th>3</th>\n",
       "      <td>7.501556</td>\n",
       "      <td>275872</td>\n",
       "      <td>55.731717</td>\n",
       "      <td>1.515772</td>\n",
       "      <td>4.276566</td>\n",
       "      <td>294.202433</td>\n",
       "      <td>4950</td>\n",
       "    </tr>\n",
       "    <tr>\n",
       "      <th>4</th>\n",
       "      <td>7.275418</td>\n",
       "      <td>37908</td>\n",
       "      <td>54.000000</td>\n",
       "      <td>10.378628</td>\n",
       "      <td>110.663105</td>\n",
       "      <td>41.683378</td>\n",
       "      <td>702</td>\n",
       "    </tr>\n",
       "  </tbody>\n",
       "</table>\n",
       "</div>"
      ],
      "text/plain": [
       "   flow_duration_sec  total_bytes  avg_packet_size  mean_inter_arrival_ms  \\\n",
       "0           7.503481       814844        67.971638               0.625968   \n",
       "1           4.509693       251912        67.284188               1.204834   \n",
       "2           5.584770         1026        54.000000             310.264998   \n",
       "3           7.501556       275872        55.731717               1.515772   \n",
       "4           7.275418        37908        54.000000              10.378628   \n",
       "\n",
       "    jitter_ms  bandwidth_kbps  packet_count  \n",
       "0    2.091379      868.763694         11988  \n",
       "1   11.450090      446.880983          3744  \n",
       "2  950.750799        1.469711            19  \n",
       "3    4.276566      294.202433          4950  \n",
       "4  110.663105       41.683378           702  "
      ]
     },
     "metadata": {},
     "output_type": "display_data"
    },
    {
     "name": "stdout",
     "output_type": "stream",
     "text": [
      "\n",
      "--- Dataset Statistics ---\n"
     ]
    },
    {
     "data": {
      "application/vnd.microsoft.datawrangler.viewer.v0+json": {
       "columns": [
        {
         "name": "index",
         "rawType": "object",
         "type": "string"
        },
        {
         "name": "flow_duration_sec",
         "rawType": "float64",
         "type": "float"
        },
        {
         "name": "total_bytes",
         "rawType": "float64",
         "type": "float"
        },
        {
         "name": "avg_packet_size",
         "rawType": "float64",
         "type": "float"
        },
        {
         "name": "mean_inter_arrival_ms",
         "rawType": "float64",
         "type": "float"
        },
        {
         "name": "jitter_ms",
         "rawType": "float64",
         "type": "float"
        },
        {
         "name": "bandwidth_kbps",
         "rawType": "float64",
         "type": "float"
        },
        {
         "name": "packet_count",
         "rawType": "float64",
         "type": "float"
        }
       ],
       "ref": "4089d8b5-d689-4587-b1c9-df18edff42ba",
       "rows": [
        [
         "count",
         "6707.0",
         "6707.0",
         "6707.0",
         "6707.0",
         "6707.0",
         "6707.0",
         "6707.0"
        ],
        [
         "mean",
         "2.106417686658057",
         "7936.804830773818",
         "60.71550824244595",
         "105.99322253212142",
         "206.96829173506896",
         "79.44528189509894",
         "132.31921872670344"
        ],
        [
         "std",
         "2.474465999211106",
         "48712.37526345093",
         "5.985890564515309",
         "165.94404993751036",
         "325.2099124154092",
         "399.56873608424996",
         "841.1396079584262"
        ],
        [
         "min",
         "0.001049041748046875",
         "540.0",
         "54.0",
         "0.02683507183850822",
         "0.06084870197149087",
         "0.6005271253630088",
         "10.0"
        ],
        [
         "25%",
         "0.20405054092407227",
         "722.0",
         "54.92307692307692",
         "9.005851579673124",
         "16.119958803831892",
         "4.279262368122554",
         "11.0"
        ],
        [
         "50%",
         "0.8662309646606445",
         "998.0",
         "58.0",
         "36.65730953216553",
         "65.13714070491548",
         "14.249938256946788",
         "16.0"
        ],
        [
         "75%",
         "3.5321730375289917",
         "1716.0",
         "66.57142857142857",
         "118.88166533576117",
         "224.14379217347772",
         "58.16339338275116",
         "28.0"
        ],
        [
         "max",
         "7.504776954650879",
         "1589124.0",
         "87.73913043478261",
         "807.0274458991157",
         "2116.960012000359",
         "16100.799144308687",
         "29428.0"
        ]
       ],
       "shape": {
        "columns": 7,
        "rows": 8
       }
      },
      "text/html": [
       "<div>\n",
       "<style scoped>\n",
       "    .dataframe tbody tr th:only-of-type {\n",
       "        vertical-align: middle;\n",
       "    }\n",
       "\n",
       "    .dataframe tbody tr th {\n",
       "        vertical-align: top;\n",
       "    }\n",
       "\n",
       "    .dataframe thead th {\n",
       "        text-align: right;\n",
       "    }\n",
       "</style>\n",
       "<table border=\"1\" class=\"dataframe\">\n",
       "  <thead>\n",
       "    <tr style=\"text-align: right;\">\n",
       "      <th></th>\n",
       "      <th>flow_duration_sec</th>\n",
       "      <th>total_bytes</th>\n",
       "      <th>avg_packet_size</th>\n",
       "      <th>mean_inter_arrival_ms</th>\n",
       "      <th>jitter_ms</th>\n",
       "      <th>bandwidth_kbps</th>\n",
       "      <th>packet_count</th>\n",
       "    </tr>\n",
       "  </thead>\n",
       "  <tbody>\n",
       "    <tr>\n",
       "      <th>count</th>\n",
       "      <td>6707.000000</td>\n",
       "      <td>6.707000e+03</td>\n",
       "      <td>6707.000000</td>\n",
       "      <td>6707.000000</td>\n",
       "      <td>6707.000000</td>\n",
       "      <td>6707.000000</td>\n",
       "      <td>6707.000000</td>\n",
       "    </tr>\n",
       "    <tr>\n",
       "      <th>mean</th>\n",
       "      <td>2.106418</td>\n",
       "      <td>7.936805e+03</td>\n",
       "      <td>60.715508</td>\n",
       "      <td>105.993223</td>\n",
       "      <td>206.968292</td>\n",
       "      <td>79.445282</td>\n",
       "      <td>132.319219</td>\n",
       "    </tr>\n",
       "    <tr>\n",
       "      <th>std</th>\n",
       "      <td>2.474466</td>\n",
       "      <td>4.871238e+04</td>\n",
       "      <td>5.985891</td>\n",
       "      <td>165.944050</td>\n",
       "      <td>325.209912</td>\n",
       "      <td>399.568736</td>\n",
       "      <td>841.139608</td>\n",
       "    </tr>\n",
       "    <tr>\n",
       "      <th>min</th>\n",
       "      <td>0.001049</td>\n",
       "      <td>5.400000e+02</td>\n",
       "      <td>54.000000</td>\n",
       "      <td>0.026835</td>\n",
       "      <td>0.060849</td>\n",
       "      <td>0.600527</td>\n",
       "      <td>10.000000</td>\n",
       "    </tr>\n",
       "    <tr>\n",
       "      <th>25%</th>\n",
       "      <td>0.204051</td>\n",
       "      <td>7.220000e+02</td>\n",
       "      <td>54.923077</td>\n",
       "      <td>9.005852</td>\n",
       "      <td>16.119959</td>\n",
       "      <td>4.279262</td>\n",
       "      <td>11.000000</td>\n",
       "    </tr>\n",
       "    <tr>\n",
       "      <th>50%</th>\n",
       "      <td>0.866231</td>\n",
       "      <td>9.980000e+02</td>\n",
       "      <td>58.000000</td>\n",
       "      <td>36.657310</td>\n",
       "      <td>65.137141</td>\n",
       "      <td>14.249938</td>\n",
       "      <td>16.000000</td>\n",
       "    </tr>\n",
       "    <tr>\n",
       "      <th>75%</th>\n",
       "      <td>3.532173</td>\n",
       "      <td>1.716000e+03</td>\n",
       "      <td>66.571429</td>\n",
       "      <td>118.881665</td>\n",
       "      <td>224.143792</td>\n",
       "      <td>58.163393</td>\n",
       "      <td>28.000000</td>\n",
       "    </tr>\n",
       "    <tr>\n",
       "      <th>max</th>\n",
       "      <td>7.504777</td>\n",
       "      <td>1.589124e+06</td>\n",
       "      <td>87.739130</td>\n",
       "      <td>807.027446</td>\n",
       "      <td>2116.960012</td>\n",
       "      <td>16100.799144</td>\n",
       "      <td>29428.000000</td>\n",
       "    </tr>\n",
       "  </tbody>\n",
       "</table>\n",
       "</div>"
      ],
      "text/plain": [
       "       flow_duration_sec   total_bytes  avg_packet_size  \\\n",
       "count        6707.000000  6.707000e+03      6707.000000   \n",
       "mean            2.106418  7.936805e+03        60.715508   \n",
       "std             2.474466  4.871238e+04         5.985891   \n",
       "min             0.001049  5.400000e+02        54.000000   \n",
       "25%             0.204051  7.220000e+02        54.923077   \n",
       "50%             0.866231  9.980000e+02        58.000000   \n",
       "75%             3.532173  1.716000e+03        66.571429   \n",
       "max             7.504777  1.589124e+06        87.739130   \n",
       "\n",
       "       mean_inter_arrival_ms    jitter_ms  bandwidth_kbps  packet_count  \n",
       "count            6707.000000  6707.000000     6707.000000   6707.000000  \n",
       "mean              105.993223   206.968292       79.445282    132.319219  \n",
       "std               165.944050   325.209912      399.568736    841.139608  \n",
       "min                 0.026835     0.060849        0.600527     10.000000  \n",
       "25%                 9.005852    16.119959        4.279262     11.000000  \n",
       "50%                36.657310    65.137141       14.249938     16.000000  \n",
       "75%               118.881665   224.143792       58.163393     28.000000  \n",
       "max               807.027446  2116.960012    16100.799144  29428.000000  "
      ]
     },
     "metadata": {},
     "output_type": "display_data"
    }
   ],
   "source": [
    "# Convert the list of dictionaries to a Pandas DataFrame\n",
    "df = pd.DataFrame(processed_flows)\n",
    "\n",
    "#  Save the DataFrame to a CSV file\n",
    "try:\n",
    "    df.to_csv(OUTPUT_CSV, index=False)\n",
    "    print(f\"Successfully saved {len(df)} flows to '{OUTPUT_CSV}'\")\n",
    "except Exception as e:\n",
    "    print(f\"An error occurred while saving the file: {e}\")\n",
    "\n",
    "print(\"\\n--- Dataset Preview ---\")\n",
    "display(df.head())\n",
    "\n",
    "print(\"\\n--- Dataset Statistics ---\")\n",
    "display(df.describe())"
   ]
  },
  {
   "cell_type": "code",
   "execution_count": null,
   "id": "0e71e0b4",
   "metadata": {},
   "outputs": [
    {
     "name": "stdout",
     "output_type": "stream",
     "text": [
      "Removed infinite or NaN values. Shape after cleaning: (6707, 7)\n",
      "\n",
      "Data preparation complete.\n",
      "Shape of X_train_scaled: (5365, 6)\n",
      "Shape of X_test_scaled: (1342, 6)\n"
     ]
    }
   ],
   "source": [
    "from sklearn.model_selection import train_test_split\n",
    "from sklearn.preprocessing import StandardScaler\n",
    "\n",
    "# --- Data Preparation for Modeling ---\n",
    "\n",
    "# 1. Load the data if needed\n",
    "# df = pd.read_csv(OUTPUT_CSV)\n",
    "\n",
    "# 2. Handle potential infinite values that may have resulted from division by a very small duration\n",
    "df.replace([np.inf, -np.inf], np.nan, inplace=True)\n",
    "df.dropna(inplace=True)\n",
    "print(f\"Removed infinite or NaN values. Shape after cleaning: {df.shape}\")\n",
    "\n",
    "# 3. Separate features (X) from the target variable (y)\n",
    "X = df.drop('packet_count', axis=1)\n",
    "y = df['packet_count']\n",
    "\n",
    "# 4. Split the data into training and testing sets (80% train, 20% test)\n",
    "X_train, X_test, y_train, y_test = train_test_split(X, y, test_size=0.2, random_state=42)\n",
    "\n",
    "# 5. Feature Scaling\n",
    "scaler = StandardScaler()\n",
    "X_train_scaled = scaler.fit_transform(X_train)\n",
    "X_test_scaled = scaler.transform(X_test)\n",
    "\n",
    "print(\"\\nData preparation complete.\")\n",
    "print(f\"Shape of X_train_scaled: {X_train_scaled.shape}\")\n",
    "print(f\"Shape of X_test_scaled: {X_test_scaled.shape}\")"
   ]
  },
  {
   "cell_type": "code",
   "execution_count": null,
   "id": "0434c141",
   "metadata": {},
   "outputs": [
    {
     "name": "stdout",
     "output_type": "stream",
     "text": [
      "Training the Random Forest Regressor model...\n",
      "Model training complete.\n",
      "\n",
      "Making predictions on the test data...\n",
      "\n",
      "--- Model Evaluation ---\n",
      "Mean Absolute Error (MAE): 12.51\n",
      "R-squared (R²) Score: 0.9147\n",
      "\n",
      "Interpretation:\n",
      "- MAE means that, on average, the model's prediction for the packet count is off by about 13 packets.\n",
      "- R² of 0.91 means that 91.5% of the variance in the packet count can be explained by our features.\n"
     ]
    },
    {
     "data": {
      "image/png": "[encoded data removed]",
      "text/plain": [
       "<Figure size 1000x600 with 1 Axes>"
      ]
     },
     "metadata": {},
     "output_type": "display_data"
    }
   ],
   "source": [
    "from sklearn.ensemble import RandomForestRegressor\n",
    "from sklearn.metrics import mean_absolute_error, r2_score\n",
    "import matplotlib.pyplot as plt\n",
    "import seaborn as sns\n",
    "\n",
    "# 1. Initialize and Train the Model\n",
    "print(\"Training the Random Forest Regressor model...\")\n",
    "# n_estimators is the number of trees in the forest.\n",
    "rf_model = RandomForestRegressor(n_estimators=100, random_state=42, n_jobs=-1)\n",
    "\n",
    "# Train the model on the scaled training data\n",
    "rf_model.fit(X_train_scaled, y_train)\n",
    "print(\"Model training complete.\")\n",
    "\n",
    "# --- 2. Make Predictions on the Test Set ---\n",
    "print(\"\\nMaking predictions on the test data...\")\n",
    "y_pred = rf_model.predict(X_test_scaled)\n",
    "\n",
    "# --- 3. Evaluate Model Performance ---\n",
    "mae = mean_absolute_error(y_test, y_pred)\n",
    "r2 = r2_score(y_test, y_pred)\n",
    "\n",
    "print(\"\\n--- Model Evaluation ---\")\n",
    "print(f\"Mean Absolute Error (MAE): {mae:.2f}\")\n",
    "print(f\"R-squared (R²) Score: {r2:.4f}\")\n",
    "print(\"\\nInterpretation:\")\n",
    "print(f\"- MAE means that, on average, the model's prediction for the packet count is off by about {mae:.0f} packets.\")\n",
    "print(f\"- R² of {r2:.2f} means that {r2*100:.1f}% of the variance in the packet count can be explained by our features.\")\n",
    "\n",
    "# --- 4. Visualize the Results ---\n",
    "plt.figure(figsize=(10, 6))\n",
    "sns.scatterplot(x=y_test, y=y_pred, alpha=0.6)\n",
    "plt.plot([y_test.min(), y_test.max()], [y_test.min(), y_test.max()], '--r', linewidth=2)\n",
    "plt.title('Actual vs. Predicted Packet Count')\n",
    "plt.xlabel('Actual Packet Count')\n",
    "plt.ylabel('Predicted Packet Count')\n",
    "plt.grid(True)\n",
    "plt.show()"
   ]
  },
  {
   "cell_type": "code",
   "execution_count": null,
   "id": "43d94f35",
   "metadata": {},
   "outputs": [
    {
     "name": "stdout",
     "output_type": "stream",
     "text": [
      "\n",
      "--- Additional Model Evaluation Metrics ---\n",
      "Mean Squared Error (MSE): 87258.54\n",
      "Root Mean Squared Error (RMSE): 295.40\n",
      "Median Absolute Error (MedAE): 0.00\n",
      "\n",
      "--- Interpretation of New Metrics ---\n",
      "- RMSE of 295.40 is another way to measure the average error in terms of packets. It's more sensitive to large errors than MAE.\n",
      "- MedAE of 0.00 is excellent. It means that for 50% of the flows in your test set, the model's prediction was off by only 0.00 packets or less.\n"
     ]
    }
   ],
   "source": [
    "from sklearn.metrics import mean_squared_error, median_absolute_error\n",
    "import numpy as np\n",
    "\n",
    "# --- Calculate Additional Metrics ---\n",
    "mse = mean_squared_error(y_test, y_pred)\n",
    "rmse = np.sqrt(mse) # RMSE is the square root of MSE\n",
    "medae = median_absolute_error(y_test, y_pred)\n",
    "\n",
    "print(\"\\n--- Additional Model Evaluation Metrics ---\")\n",
    "print(f\"Mean Squared Error (MSE): {mse:.2f}\")\n",
    "print(f\"Root Mean Squared Error (RMSE): {rmse:.2f}\")\n",
    "print(f\"Median Absolute Error (MedAE): {medae:.2f}\")\n",
    "\n",
    "print(\"\\n--- Interpretation of New Metrics ---\")\n",
    "print(f\"- RMSE of {rmse:.2f} is another way to measure the average error in terms of packets. It's more sensitive to large errors than MAE.\")\n",
    "print(f\"- MedAE of {medae:.2f} is excellent. It means that for 50% of the flows in your test set, the model's prediction was off by only {medae:.2f} packets or less.\")"
   ]
  },
  {
   "cell_type": "code",
   "execution_count": null,
   "id": "34b7ce7b",
   "metadata": {},
   "outputs": [
    {
     "name": "stdout",
     "output_type": "stream",
     "text": [
      "--- New Hypothetical Flow Data ---\n"
     ]
    },
    {
     "data": {
      "application/vnd.microsoft.datawrangler.viewer.v0+json": {
       "columns": [
        {
         "name": "index",
         "rawType": "int64",
         "type": "integer"
        },
        {
         "name": "flow_duration_sec",
         "rawType": "float64",
         "type": "float"
        },
        {
         "name": "total_bytes",
         "rawType": "int64",
         "type": "integer"
        },
        {
         "name": "avg_packet_size",
         "rawType": "int64",
         "type": "integer"
        },
        {
         "name": "mean_inter_arrival_ms",
         "rawType": "int64",
         "type": "integer"
        },
        {
         "name": "jitter_ms",
         "rawType": "int64",
         "type": "integer"
        },
        {
         "name": "bandwidth_kbps",
         "rawType": "float64",
         "type": "float"
        }
       ],
       "ref": "48316ae3-3b86-47c7-963d-2a6efafa0226",
       "rows": [
        [
         "0",
         "5.2",
         "800000",
         "1200",
         "15",
         "5",
         "1230.7692307692307"
        ],
        [
         "1",
         "300.0",
         "15000000",
         "800",
         "50",
         "20",
         "400.0"
        ],
        [
         "2",
         "0.8",
         "50000",
         "500",
         "80",
         "30",
         "500.0"
        ]
       ],
       "shape": {
        "columns": 6,
        "rows": 3
       }
      },
      "text/html": [
       "<div>\n",
       "<style scoped>\n",
       "    .dataframe tbody tr th:only-of-type {\n",
       "        vertical-align: middle;\n",
       "    }\n",
       "\n",
       "    .dataframe tbody tr th {\n",
       "        vertical-align: top;\n",
       "    }\n",
       "\n",
       "    .dataframe thead th {\n",
       "        text-align: right;\n",
       "    }\n",
       "</style>\n",
       "<table border=\"1\" class=\"dataframe\">\n",
       "  <thead>\n",
       "    <tr style=\"text-align: right;\">\n",
       "      <th></th>\n",
       "      <th>flow_duration_sec</th>\n",
       "      <th>total_bytes</th>\n",
       "      <th>avg_packet_size</th>\n",
       "      <th>mean_inter_arrival_ms</th>\n",
       "      <th>jitter_ms</th>\n",
       "      <th>bandwidth_kbps</th>\n",
       "    </tr>\n",
       "  </thead>\n",
       "  <tbody>\n",
       "    <tr>\n",
       "      <th>0</th>\n",
       "      <td>5.2</td>\n",
       "      <td>800000</td>\n",
       "      <td>1200</td>\n",
       "      <td>15</td>\n",
       "      <td>5</td>\n",
       "      <td>1230.769231</td>\n",
       "    </tr>\n",
       "    <tr>\n",
       "      <th>1</th>\n",
       "      <td>300.0</td>\n",
       "      <td>15000000</td>\n",
       "      <td>800</td>\n",
       "      <td>50</td>\n",
       "      <td>20</td>\n",
       "      <td>400.000000</td>\n",
       "    </tr>\n",
       "    <tr>\n",
       "      <th>2</th>\n",
       "      <td>0.8</td>\n",
       "      <td>50000</td>\n",
       "      <td>500</td>\n",
       "      <td>80</td>\n",
       "      <td>30</td>\n",
       "      <td>500.000000</td>\n",
       "    </tr>\n",
       "  </tbody>\n",
       "</table>\n",
       "</div>"
      ],
      "text/plain": [
       "   flow_duration_sec  total_bytes  avg_packet_size  mean_inter_arrival_ms  \\\n",
       "0                5.2       800000             1200                     15   \n",
       "1              300.0     15000000              800                     50   \n",
       "2                0.8        50000              500                     80   \n",
       "\n",
       "   jitter_ms  bandwidth_kbps  \n",
       "0          5     1230.769231  \n",
       "1         20      400.000000  \n",
       "2         30      500.000000  "
      ]
     },
     "metadata": {},
     "output_type": "display_data"
    },
    {
     "name": "stdout",
     "output_type": "stream",
     "text": [
      "\n",
      "--- Model Predictions ---\n",
      "Prediction for Flow #1: 11821 packets\n",
      "Prediction for Flow #2: 20318 packets\n",
      "Prediction for Flow #3: 779 packets\n"
     ]
    }
   ],
   "source": [
    "# --- Test the Model with New, Hypothetical Data ---\n",
    "\n",
    "# 1. Define some new example flows as a list of dictionaries\n",
    "# The keys must match the feature names from your training data\n",
    "new_flows_data = [\n",
    "    {\n",
    "        # Example 1: A short, high-bandwidth flow \n",
    "        'flow_duration_sec': 5.2,\n",
    "        'total_bytes': 800000, # 800 KB\n",
    "        'avg_packet_size': 1200,\n",
    "        'mean_inter_arrival_ms': 15,\n",
    "        'jitter_ms': 5,\n",
    "        'bandwidth_kbps': (800000 * 8) / (5.2 * 1000) # ~1230 kbps\n",
    "    },\n",
    "    {\n",
    "        # Example 2: A long, low-bandwidth flow\n",
    "        'flow_duration_sec': 300.0, # 5 minutes\n",
    "        'total_bytes': 15000000, # 15 MB\n",
    "        'avg_packet_size': 800,\n",
    "        'mean_inter_arrival_ms': 50,\n",
    "        'jitter_ms': 20,\n",
    "        'bandwidth_kbps': (15000000 * 8) / (300.0 * 1000) # 400 kbps\n",
    "    },\n",
    "    {\n",
    "        # Example 3: A very short burst of traffic\n",
    "        'flow_duration_sec': 0.8,\n",
    "        'total_bytes': 50000, # 50 KB\n",
    "        'avg_packet_size': 500,\n",
    "        'mean_inter_arrival_ms': 80,\n",
    "        'jitter_ms': 30,\n",
    "        'bandwidth_kbps': (50000 * 8) / (0.8 * 1000) # 500 kbps\n",
    "    }\n",
    "]\n",
    "\n",
    "# 2. Convert the new data into a Pandas DataFrame\n",
    "# Ensure the column order is the same as the training data (X.columns)\n",
    "new_flows_df = pd.DataFrame(new_flows_data, columns=X.columns)\n",
    "\n",
    "print(\"--- New Hypothetical Flow Data ---\")\n",
    "display(new_flows_df)\n",
    "\n",
    "# 3. Scale the new data using the SAME scaler that was fitted on the training data\n",
    "new_flows_scaled = scaler.transform(new_flows_df)\n",
    "\n",
    "# 4. Use the trained model to make predictions\n",
    "predicted_counts = rf_model.predict(new_flows_scaled)\n",
    "\n",
    "# 5. Display the results\n",
    "print(\"\\n--- Model Predictions ---\")\n",
    "for i, prediction in enumerate(predicted_counts):\n",
    "    print(f\"Prediction for Flow #{i+1}: {prediction:.0f} packets\")"
   ]
  },
  {
   "cell_type": "code",
   "execution_count": null,
   "id": "d3c98116",
   "metadata": {},
   "outputs": [],
   "source": []
  }
 ],
 "metadata": {
  "kernelspec": {
   "display_name": "Python 3",
   "language": "python",
   "name": "python3"
  },
  "language_info": {
   "codemirror_mode": {
    "name": "ipython",
    "version": 3
   },
   "file_extension": ".py",
   "mimetype": "text/x-python",
   "name": "python",
   "nbconvert_exporter": "python",
   "pygments_lexer": "ipython3",
   "version": "3.13.7"
  }
 },
 "nbformat": 4,
 "nbformat_minor": 5
}
